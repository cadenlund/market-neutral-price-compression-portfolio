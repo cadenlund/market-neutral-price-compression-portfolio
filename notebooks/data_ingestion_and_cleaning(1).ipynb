{
 "cells": [
  {
   "cell_type": "code",
   "execution_count": 1,
   "id": "a0ee0566-836f-4bc6-ac02-8f4df0d49956",
   "metadata": {},
   "outputs": [],
   "source": [
    "import boto3 #Amazon AWS Python SDK\n",
    "from botocore.config import Config #Config for SDK\n",
    "from dotenv import load_dotenv # Load .ENV file containing protected information\n",
    "import os # Ability to manage and access neigboring files \n",
    "from io import BytesIO # For reading binary data from S3\n",
    "import pandas as pd # For data manipulation\n",
    "from tqdm import tqdm # For progress bars\n",
    "import matplotlib.pyplot as plt # For plotting data"
   ]
  },
  {
   "cell_type": "code",
   "execution_count": 2,
   "id": "e998b971-639b-402f-924c-e443f70bdb49",
   "metadata": {},
   "outputs": [],
   "source": [
    "# Make the environment variables available to python from the .env file\n",
    "load_dotenv()\n",
    "# Load the environment variables into python variables\n",
    "ACCESS_KEY = os.getenv(\"AWS_ACCESS_KEY_ID\")\n",
    "SECRET_KEY = os.getenv(\"AWS_SECRET_ACCESS_KEY\")\n",
    "POLYGON_KEY = os.getenv(\"POLYGON_API_KEY\")"
   ]
  },
  {
   "cell_type": "code",
   "execution_count": 4,
   "id": "5dc09f94-70d6-44df-aa42-8a8eddbae7c9",
   "metadata": {},
   "outputs": [],
   "source": [
    "# Initialize a session using the AWS keys\n",
    "session = boto3.Session( # Session object used to configure users and environment control\n",
    "    aws_access_key_id=ACCESS_KEY,\n",
    "    aws_secret_access_key=SECRET_KEY,\n",
    ")"
   ]
  },
  {
   "cell_type": "code",
   "execution_count": 5,
   "id": "0cf6ea58-5ad6-406e-8293-1e95537d8261",
   "metadata": {},
   "outputs": [],
   "source": [
    "# Create a client with session and speficy the endpoint (where the data is located)\n",
    "s3 = session.client(\n",
    "    's3', # Connecting to the S3 (Simple Storage Service) specifically (can connect to any aws service here)\n",
    "    endpoint_url='https://files.polygon.io', # Base url for the service you want to access\n",
    "    config=Config(signature_version='s3v4'), # Ensures client is using AWS signature Version 4 protocol by prohibiting api requests unless supplied with\n",
    "                                             # a secret key. Used for hashsing\n",
    ")\n",
    "# The previous code is everything needed to accesss the S3 flatfiles"
   ]
  },
  {
   "cell_type": "code",
   "execution_count": 6,
   "id": "23f98c0b-b2b0-4b88-aa88-676ff7f2d6e7",
   "metadata": {},
   "outputs": [],
   "source": [
    "# Initialize a paginator for listing objects\n",
    "paginator = s3.get_paginator('list_objects_v2')"
   ]
  },
  {
   "cell_type": "code",
   "execution_count": 7,
   "id": "2d1ca190-a6e8-4554-9d96-90edf98dea0d",
   "metadata": {},
   "outputs": [],
   "source": [
    "# Choose the appropriate prefix depending on the data you need:\n",
    "# - 'global_crypto' for global cryptocurrency data\n",
    "# - 'global_forex' for global forex data\n",
    "# - 'us_indices' for US indices data\n",
    "# - 'us_options_opra' for US options (OPRA) data\n",
    "# - 'us_stocks_sip' for US stocks (SIP) data\n",
    "def get_daily_polygon_files(start_year, years):\n",
    "    \"\"\"\n",
    "    returns all the s3 files to download\n",
    "\n",
    "    Args:\n",
    "        start_year (int): Year to start historical data pull.\n",
    "        years (int): Amount of years to pull files for.\n",
    "\n",
    "    Returns:\n",
    "        object_keys: A list of files that will be pulled from S3.\n",
    "    \"\"\"\n",
    "    #One liner to make the list of years to pull from. Paginator will recursively get all the files from s3\n",
    "    prefixes = [f'us_stocks_sip/day_aggs_v1/{year}' for year in range(start_year, start_year + years)]\n",
    "    # List objects using the selected prefix\n",
    "    object_keys = []\n",
    "    for prefix in prefixes: #Step into each parent fdirectory\n",
    "        for page in paginator.paginate(Bucket='flatfiles', Prefix=prefix): #Use the paginator to search throuigh the files in the remote S3 bucket\n",
    "            for obj in page['Contents']: # Step into each month folder\n",
    "                object_keys.append(obj['Key']) #Append the name of each daily file to a list\n",
    "    return object_keys"
   ]
  },
  {
   "cell_type": "code",
   "execution_count": 8,
   "id": "8bc18496-60ab-47de-be1a-c4f533000833",
   "metadata": {},
   "outputs": [],
   "source": [
    "def get_daily_data(keys):\n",
    "    \"\"\"\n",
    "    grabs all the csv files stored in keys, unzips them, and concatenates them all in a dataframe\n",
    "\n",
    "\n",
    "    Args:\n",
    "        keys (String[]): list of csv file paths to download from s3\n",
    "\n",
    "    Returns:\n",
    "        Dataframe: dataframe with stock data appended from all days\n",
    "    \"\"\"\n",
    "    dfs = []\n",
    "    for key in tqdm(keys, desc=\"Fetching Stock data\"): #Progress bar loop for each file\n",
    "        if key.endswith('csv.gz'): #Only download the compressed csv files\n",
    "            response = s3.get_object(Bucket='flatfiles', Key=key) # Download the object from S3\n",
    "            df = pd.read_csv(BytesIO(response['Body'].read()), compression = 'gzip') # Read the raw compressed file as bytes and store them in our computers main memory(RAM)\n",
    "            dfs.append(df) # Read the bytes into a pandas DataFrame, specifying that the file is compressed with gzip\n",
    "    return pd.concat(dfs, ignore_index=True)   # Concatenate all the dataframes in the list into a single dataframe           "
   ]
  },
  {
   "cell_type": "code",
   "execution_count": 9,
   "id": "2db75133-8217-437b-a79e-0670a9372a6e",
   "metadata": {},
   "outputs": [
    {
     "name": "stderr",
     "output_type": "stream",
     "text": [
      "Fetching Stock data: 100%|████████████████████████████████████████████████████████████████████████| 1078/1078 [01:41<00:00, 10.66it/s]\n"
     ]
    }
   ],
   "source": [
    "data = get_daily_data(get_daily_polygon_files(2021, 5))"
   ]
  },
  {
   "cell_type": "code",
   "execution_count": 10,
   "id": "255f734f-f6bf-42a4-81b6-20586f0ace56",
   "metadata": {},
   "outputs": [],
   "source": [
    "def data_evaluation(data):\n",
    "    \"\"\"\n",
    "    evaluates the data and prints null values and missing data\n",
    "\n",
    "    Args:\n",
    "        data: input data frame\n",
    "\n",
    "    Returns:\n",
    "        Void\n",
    "    \"\"\"\n",
    "    ticker_counts = data['ticker'].value_counts()\n",
    "    most_common_value = ticker_counts.mode().iloc[0]\n",
    "    num_incomplete_tickers = int((ticker_counts != most_common_value).sum())\n",
    "    incomplete_percentage = (num_incomplete_tickers / ticker_counts.size) * 100\n",
    "    **\n",
    "    print(f\"\"\"\n",
    "Amount of null values per column: \\n {data.isnull().sum()} \\n\n",
    "Number of unique tickers: {data['ticker'].nunique()}\n",
    "The mode of the amount of tickers is {most_common_value}\n",
    "The number of incomplete tickers is {num_incomplete_tickers}\n",
    "The percentage of incomplete tickers relative to the mode is {incomplete_percentage:.3f}%\n",
    "    \"\"\")"
   ]
  },
  {
   "cell_type": "code",
   "execution_count": 11,
   "id": "bf361c1f-a492-4b31-99dc-97846c019b1a",
   "metadata": {},
   "outputs": [
    {
     "name": "stdout",
     "output_type": "stream",
     "text": [
      "\n",
      "Amount of null values per column: \n",
      " ticker          693\n",
      "volume            0\n",
      "open              0\n",
      "close             0\n",
      "high              0\n",
      "low               0\n",
      "window_start      0\n",
      "transactions      0\n",
      "dtype: int64 \n",
      "\n",
      "Number of unique tickers: 18017\n",
      "The mode of the amount of tickers is 1078\n",
      "The number of incomplete tickers is 12477\n",
      "The percentage of incomplete tickers relative to the mode is 69.251%\n",
      "    \n"
     ]
    }
   ],
   "source": [
    "data_evaluation(data)"
   ]
  },
  {
   "cell_type": "code",
   "execution_count": 13,
   "id": "2add41d8-83b5-4cbf-98f1-d50f98b44b60",
   "metadata": {},
   "outputs": [],
   "source": [
    "def get_clean_tickers(data):\n",
    "   \"\"\" \n",
    "   filters out incomplete tickers from the data\n",
    "   \n",
    "   Args:\n",
    "       data: input data frame\n",
    "       \n",
    "   Returns:\n",
    "       dataframe: filtered dataframe with only complete tickers\n",
    "   \"\"\"\n",
    "   #Remove null tickers from ticker list\n",
    "   unique_tickers = data['ticker'].dropna().unique() #Get unique tickers, dropping nulls\n",
    "   tickers_with_null = data[data.isnull().any(axis=1)]['ticker'].dropna().unique().tolist() #Get tickers with null values\n",
    "   valid_tickers = list(set(unique_tickers) - set(tickers_with_null)) #Get valid tickers by removing null tickers from unique tickers\n",
    "\n",
    "   #Create new filtered DataFrame and filter further based on mode amount of samples\n",
    "   filtered_null_data = data[data['ticker'].isin(valid_tickers)] #Filter out null tickers from data\n",
    "   ticker_counts = filtered_null_data['ticker'].value_counts() #Count the number of rows for each ticker\n",
    "   most_common_value = ticker_counts.mode().iloc[0] #Get the mode of the number of rows for each ticker\n",
    "   # Get tickers that don't have the mode number of rows\n",
    "   incomplete_tickers = ticker_counts[ticker_counts != most_common_value].index.tolist() #Get tickers that don't have the mode number of rows\n",
    "   filtered_final_data = filtered_null_data[filtered_null_data['ticker'].isin(list(set(valid_tickers) - set(incomplete_tickers)))] #Filter out incomplete tickers from data\n",
    "\n",
    "   #Print null tickers, evaulate final data, and return final df\n",
    "   print(f\"tickers with null: {tickers_with_null}\")\n",
    "   data_evaluation(filtered_final_data) #Evaluate the final data to ensure it is valid\n",
    "   filtered_final_data = filtered_final_data.copy() #Avoid SettingWithCopyWarning\n",
    "   filtered_final_data['time'] = pd.to_datetime(filtered_final_data['window_start']).dt.date #Convert nanosecond time to datetime format\n",
    "   filtered_final_data = filtered_final_data.drop(columns=['window_start']) #Drop the window_start column\n",
    "   return filtered_final_data"
   ]
  },
  {
   "cell_type": "code",
   "execution_count": 14,
   "id": "ef2a076e-e940-499d-bad5-cc4ecf9363f9",
   "metadata": {},
   "outputs": [
    {
     "name": "stdout",
     "output_type": "stream",
     "text": [
      "tickers with null: []\n",
      "\n",
      "Amount of null values per column: \n",
      " ticker          0\n",
      "volume          0\n",
      "open            0\n",
      "close           0\n",
      "high            0\n",
      "low             0\n",
      "window_start    0\n",
      "transactions    0\n",
      "dtype: int64 \n",
      "\n",
      "Number of unique tickers: 5540\n",
      "The mode of the amount of tickers is 1078\n",
      "The number of incomplete tickers is 0\n",
      "The percentage of incomplete tickers relative to the mode is 0.000%\n",
      "    \n"
     ]
    }
   ],
   "source": [
    "filtered_data = get_clean_tickers(data)"
   ]
  },
  {
   "cell_type": "code",
   "execution_count": 15,
   "id": "b50ddb91-923b-4bf7-8d58-eaecab39c2f8",
   "metadata": {},
   "outputs": [
    {
     "data": {
      "image/png": "[encoded data removed]",
      "text/plain": [
       "<Figure size 640x480 with 1 Axes>"
      ]
     },
     "metadata": {},
     "output_type": "display_data"
    }
   ],
   "source": [
    "filtered_data[filtered_data['ticker'] == 'TSLA'].plot(x='time', y='close', title='TSLA Close Price')\n",
    "plt.xticks(rotation=45)  # Rotate x-axis labels vertically\n",
    "plt.tight_layout()       # Optional: prevent clipping\n",
    "plt.show()"
   ]
  },
  {
   "cell_type": "code",
   "execution_count": 17,
   "id": "0c5fe91b-7566-4ccf-8182-859fe328c897",
   "metadata": {},
   "outputs": [
    {
     "name": "stderr",
     "output_type": "stream",
     "text": [
      "25861it [03:01, 142.79it/s]\n"
     ]
    }
   ],
   "source": [
    "from polygon import RESTClient\n",
    "\n",
    "client = RESTClient(POLYGON_KEY) # Initialize the Polygon.io REST client with API key\n",
    "\n",
    "splits = []\n",
    "for s in tqdm(client.list_splits(\n",
    "   order=\"asc\", # Order by ascending execution date\n",
    "   limit=\"10\", # Limit to 10 results per request (max is 1000)\n",
    "   sort=\"execution_date\", # Sort by execution date\n",
    "   )):\n",
    "   splits.append(s)  # Append each split to the list"
   ]
  },
  {
   "cell_type": "code",
   "execution_count": 18,
   "id": "25a71e70-e4f6-4823-9d83-d7acfe6f1c37",
   "metadata": {},
   "outputs": [
    {
     "data": {
      "text/html": [
       "<div>\n",
       "<style scoped>\n",
       "    .dataframe tbody tr th:only-of-type {\n",
       "        vertical-align: middle;\n",
       "    }\n",
       "\n",
       "    .dataframe tbody tr th {\n",
       "        vertical-align: top;\n",
       "    }\n",
       "\n",
       "    .dataframe thead th {\n",
       "        text-align: right;\n",
       "    }\n",
       "</style>\n",
       "<table border=\"1\" class=\"dataframe\">\n",
       "  <thead>\n",
       "    <tr style=\"text-align: right;\">\n",
       "      <th></th>\n",
       "      <th>ticker</th>\n",
       "      <th>volume</th>\n",
       "      <th>open</th>\n",
       "      <th>close</th>\n",
       "      <th>high</th>\n",
       "      <th>low</th>\n",
       "      <th>window_start</th>\n",
       "      <th>transactions</th>\n",
       "    </tr>\n",
       "  </thead>\n",
       "  <tbody>\n",
       "    <tr>\n",
       "      <th>0</th>\n",
       "      <td>A</td>\n",
       "      <td>1980148</td>\n",
       "      <td>118.940</td>\n",
       "      <td>118.6400</td>\n",
       "      <td>120.09</td>\n",
       "      <td>117.1100</td>\n",
       "      <td>1609736400000000000</td>\n",
       "      <td>21357</td>\n",
       "    </tr>\n",
       "    <tr>\n",
       "      <th>1</th>\n",
       "      <td>AA</td>\n",
       "      <td>5400045</td>\n",
       "      <td>23.620</td>\n",
       "      <td>23.2500</td>\n",
       "      <td>24.45</td>\n",
       "      <td>23.1250</td>\n",
       "      <td>1609736400000000000</td>\n",
       "      <td>30118</td>\n",
       "    </tr>\n",
       "    <tr>\n",
       "      <th>2</th>\n",
       "      <td>AAA</td>\n",
       "      <td>3722</td>\n",
       "      <td>25.065</td>\n",
       "      <td>25.0654</td>\n",
       "      <td>25.07</td>\n",
       "      <td>25.0650</td>\n",
       "      <td>1609736400000000000</td>\n",
       "      <td>20</td>\n",
       "    </tr>\n",
       "    <tr>\n",
       "      <th>3</th>\n",
       "      <td>AAAU</td>\n",
       "      <td>767803</td>\n",
       "      <td>19.330</td>\n",
       "      <td>19.3500</td>\n",
       "      <td>19.36</td>\n",
       "      <td>19.2243</td>\n",
       "      <td>1609736400000000000</td>\n",
       "      <td>1190</td>\n",
       "    </tr>\n",
       "    <tr>\n",
       "      <th>4</th>\n",
       "      <td>AACG</td>\n",
       "      <td>17972</td>\n",
       "      <td>1.170</td>\n",
       "      <td>1.1800</td>\n",
       "      <td>1.22</td>\n",
       "      <td>1.1700</td>\n",
       "      <td>1609736400000000000</td>\n",
       "      <td>111</td>\n",
       "    </tr>\n",
       "    <tr>\n",
       "      <th>...</th>\n",
       "      <td>...</td>\n",
       "      <td>...</td>\n",
       "      <td>...</td>\n",
       "      <td>...</td>\n",
       "      <td>...</td>\n",
       "      <td>...</td>\n",
       "      <td>...</td>\n",
       "      <td>...</td>\n",
       "    </tr>\n",
       "    <tr>\n",
       "      <th>11542217</th>\n",
       "      <td>ZXZZT</td>\n",
       "      <td>15448</td>\n",
       "      <td>12.100</td>\n",
       "      <td>12.1900</td>\n",
       "      <td>12.19</td>\n",
       "      <td>12.1000</td>\n",
       "      <td>1744862400000000000</td>\n",
       "      <td>259</td>\n",
       "    </tr>\n",
       "    <tr>\n",
       "      <th>11542218</th>\n",
       "      <td>ZYBT</td>\n",
       "      <td>890867</td>\n",
       "      <td>7.930</td>\n",
       "      <td>10.0600</td>\n",
       "      <td>10.47</td>\n",
       "      <td>7.2300</td>\n",
       "      <td>1744862400000000000</td>\n",
       "      <td>4715</td>\n",
       "    </tr>\n",
       "    <tr>\n",
       "      <th>11542219</th>\n",
       "      <td>ZYME</td>\n",
       "      <td>383335</td>\n",
       "      <td>11.230</td>\n",
       "      <td>11.5300</td>\n",
       "      <td>11.59</td>\n",
       "      <td>11.1200</td>\n",
       "      <td>1744862400000000000</td>\n",
       "      <td>5408</td>\n",
       "    </tr>\n",
       "    <tr>\n",
       "      <th>11542220</th>\n",
       "      <td>ZYXI</td>\n",
       "      <td>113137</td>\n",
       "      <td>2.140</td>\n",
       "      <td>2.1800</td>\n",
       "      <td>2.20</td>\n",
       "      <td>2.1100</td>\n",
       "      <td>1744862400000000000</td>\n",
       "      <td>1413</td>\n",
       "    </tr>\n",
       "    <tr>\n",
       "      <th>11542221</th>\n",
       "      <td>ZZZ</td>\n",
       "      <td>437</td>\n",
       "      <td>24.100</td>\n",
       "      <td>24.0993</td>\n",
       "      <td>24.26</td>\n",
       "      <td>24.0993</td>\n",
       "      <td>1744862400000000000</td>\n",
       "      <td>22</td>\n",
       "    </tr>\n",
       "  </tbody>\n",
       "</table>\n",
       "<p>11542222 rows × 8 columns</p>\n",
       "</div>"
      ],
      "text/plain": [
       "         ticker   volume     open     close    high       low  \\\n",
       "0             A  1980148  118.940  118.6400  120.09  117.1100   \n",
       "1            AA  5400045   23.620   23.2500   24.45   23.1250   \n",
       "2           AAA     3722   25.065   25.0654   25.07   25.0650   \n",
       "3          AAAU   767803   19.330   19.3500   19.36   19.2243   \n",
       "4          AACG    17972    1.170    1.1800    1.22    1.1700   \n",
       "...         ...      ...      ...       ...     ...       ...   \n",
       "11542217  ZXZZT    15448   12.100   12.1900   12.19   12.1000   \n",
       "11542218   ZYBT   890867    7.930   10.0600   10.47    7.2300   \n",
       "11542219   ZYME   383335   11.230   11.5300   11.59   11.1200   \n",
       "11542220   ZYXI   113137    2.140    2.1800    2.20    2.1100   \n",
       "11542221    ZZZ      437   24.100   24.0993   24.26   24.0993   \n",
       "\n",
       "                 window_start  transactions  \n",
       "0         1609736400000000000         21357  \n",
       "1         1609736400000000000         30118  \n",
       "2         1609736400000000000            20  \n",
       "3         1609736400000000000          1190  \n",
       "4         1609736400000000000           111  \n",
       "...                       ...           ...  \n",
       "11542217  1744862400000000000           259  \n",
       "11542218  1744862400000000000          4715  \n",
       "11542219  1744862400000000000          5408  \n",
       "11542220  1744862400000000000          1413  \n",
       "11542221  1744862400000000000            22  \n",
       "\n",
       "[11542222 rows x 8 columns]"
      ]
     },
     "execution_count": 18,
     "metadata": {},
     "output_type": "execute_result"
    }
   ],
   "source": [
    "data"
   ]
  },
  {
   "cell_type": "code",
   "execution_count": 19,
   "id": "367b87ca-b1e5-4554-843f-7dc5738604ad",
   "metadata": {},
   "outputs": [],
   "source": [
    "def adjust_for_splits(data, splits):\n",
    "   \"\"\"\n",
    "   Adjusts the OHLCV data for stock splits.\n",
    "   \n",
    "   Args:\n",
    "       data (DataFrame): DataFrame containing OHLCV data with columns ['time', 'ticker', 'open', 'high', 'low', 'close', 'volume'].\n",
    "       splits (list): List of split objects containing attributes 'execution_date', 'split_from', 'split_to', and 'ticker'.\n",
    "       \n",
    "   Returns:\n",
    "       DataFrame: Adjusted OHLCV data.\n",
    "   \"\"\"\n",
    "   \n",
    "   start_date = pd.to_datetime(data['time'].min()) # Get the start and end date of the data\n",
    "   end_date = pd.to_datetime(data['time'].max()) \n",
    "\n",
    "   tickers_in_data = set(data['ticker'].unique()) # Create a set of valid tickers in the data\n",
    "\n",
    "   # Filter splits to only include those within the date range and valid tickers\n",
    "   filtered = [\n",
    "       s for s in splits # List comprehension to filter splits\n",
    "       if start_date <= pd.to_datetime(s.execution_date) <= end_date # Only include splits within the date range\n",
    "       and s.ticker in tickers_in_data # Only include splits for tickers in the data\n",
    "   ]\n",
    "\n",
    "   data = data.copy() # Avoid SettingWithCopyWarning\n",
    "   splits = sorted(filtered, key=lambda s: s.execution_date) # Sort splits by execution date\n",
    "\n",
    "   for split in tqdm(splits, desc='Adjusting ohlcv data to splits'): # Progress bar loop for each split\n",
    "       exec_date = pd.to_datetime(split.execution_date) # Convert execution date to datetime\n",
    "       ratio = split.split_from / split.split_to # Calculate the split ratio\n",
    "       ticker = split.ticker # Get the ticker symbol\n",
    "\n",
    "       # Use the 'time' column for the date filter\n",
    "       mask = (data['ticker'] == ticker) & (pd.to_datetime(data['time']) < exec_date) # Create a boolean mask for the date range to adjust\n",
    "       data.loc[mask, ['open', 'high', 'low', 'close']] *= ratio # Adjust the OHLC prices by the split ratio\n",
    "       data.loc[mask, 'volume'] /= ratio # Adjust the volume by the inverse of the split ratio\n",
    "\n",
    "   return data"
   ]
  },
  {
   "cell_type": "code",
   "execution_count": 20,
   "id": "afb102d7-eb09-40c9-abaa-6dfd1a7a40b7",
   "metadata": {},
   "outputs": [
    {
     "name": "stderr",
     "output_type": "stream",
     "text": [
      "/tmp/ipykernel_23656/2432450480.py:25: FutureWarning: Setting an item of incompatible dtype is deprecated and will raise an error in a future version of pandas. Value '[167208.45 134751.3  227146.4  161302.55 117286.15]' has dtype incompatible with int64, please explicitly cast to a compatible dtype first.\n",
      "  data.loc[mask, 'volume'] /= ratio\n",
      "Adjusting ohlcv data to splits: 100%|███████████████████████████████████████████████████████████████| 761/761 [06:13<00:00,  2.04it/s]\n"
     ]
    }
   ],
   "source": [
    "data = adjust_for_splits(filtered_data, splits)"
   ]
  },
  {
   "cell_type": "code",
   "execution_count": 21,
   "id": "d24af571-d0ec-4e7f-b107-ca66a5d0dcb7",
   "metadata": {},
   "outputs": [
    {
     "data": {
      "image/png": "[encoded data removed]",
      "text/plain": [
       "<Figure size 640x480 with 1 Axes>"
      ]
     },
     "metadata": {},
     "output_type": "display_data"
    }
   ],
   "source": [
    "data[data['ticker'] == 'TSLA'].plot(x='time', y='close', title='TSLA Close Price')\n",
    "plt.xticks(rotation=45)  # Rotate x-axis labels vertically\n",
    "plt.tight_layout()       # Optional: prevent clipping\n",
    "plt.show()"
   ]
  },
  {
   "cell_type": "code",
   "execution_count": 22,
   "id": "01002fa6-3b92-4063-880b-b7d0dfda4d32",
   "metadata": {},
   "outputs": [
    {
     "name": "stdout",
     "output_type": "stream",
     "text": [
      "\n",
      "Amount of null values per column: \n",
      " ticker          0\n",
      "volume          0\n",
      "open            0\n",
      "close           0\n",
      "high            0\n",
      "low             0\n",
      "window_start    0\n",
      "transactions    0\n",
      "time            0\n",
      "dtype: int64 \n",
      "\n",
      "Number of unique tickers: 5540\n",
      "The mode of the amount of tickers is 1078\n",
      "The number of incomplete tickers is 0\n",
      "The percentage of incomplete tickers relative to the mode is 0.000%\n",
      "    \n"
     ]
    }
   ],
   "source": [
    "data_evaluation(data)"
   ]
  },
  {
   "cell_type": "code",
   "execution_count": 24,
   "id": "62d24eda-a304-4639-8050-22cbacb079c4",
   "metadata": {},
   "outputs": [],
   "source": [
    "db_user = os.getenv(\"POSTGRES_USER\")\n",
    "db_password = os.getenv(\"POSTGRES_PASSWORD\")\n",
    "db_host = os.getenv(\"POSTGRES_HOST\")\n",
    "db_port = os.getenv(\"POSTGRES_PORT\")\n",
    "db_name = os.getenv(\"POSTGRES_DB\")"
   ]
  },
  {
   "cell_type": "code",
   "execution_count": 25,
   "id": "f10c1e3b-ab10-4fa5-9b1b-a96b7b296d2c",
   "metadata": {},
   "outputs": [],
   "source": [
    "from sqlalchemy import create_engine\n",
    "\n",
    "engine = create_engine(\n",
    "    f\"postgresql+psycopg2://{db_user}:{db_password}@{db_host}:{db_port}/{db_name}\"\n",
    ")"
   ]
  },
  {
   "cell_type": "code",
   "execution_count": 28,
   "id": "3b6ff669-becf-4e78-b285-2f097ea2ccbc",
   "metadata": {},
   "outputs": [
    {
     "name": "stdout",
     "output_type": "stream",
     "text": [
      "First 20 tickers: ['A', 'AA', 'AAA', 'AAAU', 'AAL', 'AAOI', 'AAON', 'AAP', 'AAPL', 'AAT', 'AAXJ', 'AB', 'ABBV', 'ABCB', 'ABCL', 'ABEO', 'ABEQ', 'ABEV', 'ABG', 'ABM']\n"
     ]
    },
    {
     "name": "stderr",
     "output_type": "stream",
     "text": [
      "Fetching ticker details: 100%|████████████████████████████████████████████████████████████████████| 5540/5540 [04:38<00:00, 19.91it/s]"
     ]
    },
    {
     "name": "stdout",
     "output_type": "stream",
     "text": [
      "Clean metadata:\n",
      "  ticker  active    market_cap   list_date sic_code\n",
      "0      A    True  2.998995e+10  1999-11-18     3826\n",
      "1     AA    True  6.474725e+09  2016-10-18     3334\n",
      "2    AAL    True  6.206615e+09  2013-12-10     4512\n",
      "3   AAOI    True  5.653103e+08  2013-09-26     3674\n",
      "4   AAON    True  6.705448e+09  1990-12-01     3585\n",
      "\n",
      "Tickers skipped (inactive or missing data): 2970\n",
      "['AAA', 'AAAU', 'AAXJ', 'ABEQ', 'ABEV', 'ACB', 'ACES', 'ACGLO', 'ACIO', 'ACIU', 'ACP', 'ACSI', 'ACTV', 'ACV', 'ACVF', 'ACWI', 'ACWV', 'ACWX', 'ADFI', 'ADME', 'ADX', 'AEF', 'AEFC', 'AEG', 'AEM', 'AER', 'AESR', 'AFB', 'AFGC', 'AFIF', 'AFK', 'AFLG', 'AFMC', 'AFMD', 'AFSM', 'AFYA', 'AG', 'AGD', 'AGG', 'AGGY', 'AGI', 'AGNCM', 'AGNCN', 'AGNCO', 'AGNCP', 'AGQ', 'AGRO', 'AGZ', 'AGZD', 'AHLpD', 'AHLpE', 'AIA', 'AIEQ', 'AIO', 'AIQ', 'AIRR', 'AIZN', 'AKO.B', 'ALC', 'ALLT', 'ALLpB', 'ALLpH', 'ALLpI', 'ALTL', 'ALTY', 'AMLP', 'AMOM', 'AMUB', 'AMX', 'AMZA', 'ANEW', 'ANGL', 'AOA', 'AOD', 'AOK', 'AOM', 'AOR', 'API', 'AQN', 'AQNB', 'ARB', 'ARCC', 'ARCM', 'ARCO', 'ARDC', 'ARGOpA', 'ARGT', 'ARGX', 'ARKF', 'ARKG', 'ARKK', 'ARKQ', 'ARKW', 'ARRpC', 'ASA', 'ASC', 'ASEA', 'ASG', 'ASGI', 'ASHR', 'ASHS', 'ASM', 'ASML', 'ASND', 'ASPS', 'ASR', 'ASX', 'ATCOpH', 'ATHM', 'ATHpA', 'ATHpB', 'ATHpC', 'ATHpD', 'ATMP', 'AU', 'AUDC', 'AUGZ', 'AUSF', 'AVAL', 'AVDE', 'AVDV', 'AVEM', 'AVIG', 'AVK', 'AVMU', 'AVO', 'AVSF', 'AVUS', 'AVUV', 'AWAY', 'AWF', 'AWP', 'AXSpE', 'AXTI', 'AZN', 'AZUL', 'BAB', 'BABA', 'BACpB', 'BACpE', 'BACpK', 'BACpL', 'BACpM', 'BACpN', 'BACpO', 'BAK', 'BANR', 'BANX', 'BAP', 'BAPR', 'BAR', 'BATT', 'BAUG', 'BBAR', 'BBAX', 'BBC', 'BBCA', 'BBD', 'BBDC', 'BBDO', 'BBEU', 'BBH', 'BBIN', 'BBJP', 'BBMC', 'BBN', 'BBP', 'BBRE', 'BBSC', 'BBU', 'BBUS', 'BBVA', 'BCAT', 'BCD', 'BCE', 'BCH', 'BCI', 'BCO', 'BCS', 'BCSF', 'BCV', 'BCX', 'BCpA', 'BCpC', 'BDCX', 'BDCZ', 'BDEC', 'BDJ', 'BDN', 'BDRY', 'BEKE', 'BEP', 'BEPC', 'BETZ', 'BFAM', 'BFEB', 'BFK', 'BFOR', 'BFZ', 'BGB', 'BGH', 'BGR', 'BGRN', 'BGT', 'BGX', 'BGY', 'BHAT', 'BHFAL', 'BHFAN', 'BHFAO', 'BHFAP', 'BHK', 'BHP', 'BIB', 'BIBL', 'BIDU', 'BIL', 'BILI', 'BILS', 'BIOX', 'BIP', 'BIPC', 'BIS', 'BIT', 'BIV', 'BIZD', 'BJAN', 'BJK', 'BJUL', 'BJUN', 'BKAG', 'BKEM', 'BKF', 'BKHY', 'BKIE', 'BKLC', 'BKLN', 'BKMC', 'BKN', 'BKSE', 'BKT', 'BLCN', 'BLDG', 'BLDP', 'BLE', 'BLES', 'BLOK', 'BLRX', 'BLV', 'BLW', 'BLX', 'BMA', 'BMAR', 'BMAY', 'BME', 'BMED', 'BMEZ', 'BMLpH', 'BMLpJ', 'BMLpL', 'BMRA', 'BND', 'BNDC', 'BNDW', 'BNDX', 'BNO', 'BNOV', 'BNTX', 'BNY', 'BOCT', 'BOE', 'BOIL', 'BOND', 'BORR', 'BOTZ', 'BOUT', 'BP', 'BPYPO', 'BPYPP', 'BRF', 'BRFS', 'BRZU', 'BSAC', 'BSBR', 'BSCP', 'BSCQ', 'BSCR', 'BSCS', 'BSCT', 'BSEP', 'BSJP', 'BSJQ', 'BSL', 'BST', 'BSTZ', 'BSV', 'BTA', 'BTAL', 'BTG', 'BTI', 'BTO', 'BTT', 'BTZ', 'BUD', 'BUFF', 'BUFR', 'BUG', 'BUI', 'BUL', 'BUR', 'BUYZ', 'BVN', 'BWG', 'BWMX', 'BWX', 'BWZ', 'BXMX', 'BYLD', 'BYM', 'BZQ', 'BZUN', 'CAAP', 'CAC', 'CADE', 'CAE', 'CAF', 'CAH', 'CALF', 'CAMT', 'CAN', 'CANE', 'CANF', 'CANG', 'CARZ', 'CASI', 'CATH', 'CATY', 'CBON', 'CBRL', 'CBSE', 'CCAP', 'CCD', 'CCEP', 'CCJ', 'CCOR', 'CCRV', 'CCU', 'CDC', 'CDL', 'CEF', 'CEFS', 'CEMB', 'CEPU', 'CET', 'CEV', 'CEW', 'CFA', 'CFGpE', 'CFO', 'CFRpB', 'CGBD', 'CGEN', 'CGO', 'CGW', 'CHAU', 'CHE', 'CHEK', 'CHGX', 'CHH', 'CHI', 'CHIQ', 'CHKP', 'CHN', 'CHSCL', 'CHSCM', 'CHSCN', 'CHSCO', 'CHSCP', 'CHT', 'CHW', 'CHY', 'CIB', 'CIBR', 'CIF', 'CIG', 'CII', 'CIK', 'CIMpA', 'CIMpB', 'CIMpC', 'CIMpD', 'CL', 'CLEU', 'CLIX', 'CLLS', 'CLM', 'CLOU', 'CLS', 'CM', 'CMBS', 'CMCL', 'CMCM', 'CMCO', 'CMDY', 'CMF', 'CMRE', 'CMSA', 'CMSC', 'CMSD', 'CMU', 'CNBS', 'CNI', 'CNP', 'CNQ', 'CNRG', 'CNXC', 'CNXN', 'CNXT', 'CNYA', 'COFpI', 'COFpJ', 'COFpK', 'COM', 'COMB', 'COMT', 'COPX', 'CORN', 'CORP', 'COWZ', 'CPA', 'CPER', 'CPRT', 'CPSH', 'CPZ', 'CQQQ', 'CRAI', 'CRAK', 'CRBN', 'CRESY', 'CRF', 'CRNT', 'CRUS', 'CSB', 'CSD', 'CSIQ', 'CSM', 'CSQ', 'CSTE', 'CSWC', 'CSWI', 'CSX', 'CTAS', 'CTBB', 'CTDD', 'CTEC', 'CTRM', 'CTRN', 'CTS', 'CUBA', 'CURE', 'CUT', 'CVAC', 'CVE', 'CVLG', 'CVV', 'CVY', 'CWB', 'CWEB', 'CWI', 'CWS', 'CX', 'CXE', 'CXH', 'CXSE', 'CYBR', 'CYD', 'CZA', 'CpN', 'DAC', 'DADA', 'DAO', 'DAUG', 'DAVA', 'DAX', 'DB', 'DBA', 'DBAW', 'DBB', 'DBC', 'DBE', 'DBEF', 'DBEM', 'DBEU', 'DBEZ', 'DBJP', 'DBL', 'DBMF', 'DBO', 'DBP', 'DCBO', 'DDEC', 'DDLS', 'DDM', 'DDT', 'DDWM', 'DECZ', 'DEED', 'DEEF', 'DEEP', 'DEM', 'DEO', 'DES', 'DESP', 'DEUS', 'DEW', 'DFAE', 'DFAI', 'DFAU', 'DFE', 'DFEB', 'DFEN', 'DFJ', 'DFND', 'DFNL', 'DFP', 'DG', 'DGP', 'DGRE', 'DGRO', 'DGRS', 'DGRW', 'DGS', 'DGT', 'DHCNI', 'DHCNL', 'DHF', 'DHS', 'DHT', 'DHX', 'DHY', 'DIA', 'DIAL', 'DIAX', 'DIG', 'DIM', 'DINT', 'DIV', 'DIVB', 'DIVO', 'DJD', 'DJP', 'DJUL', 'DJUN', 'DLHC', 'DLN', 'DLNG', 'DLRpJ', 'DLRpK', 'DLRpL', 'DLS', 'DLY', 'DMAY', 'DMB', 'DMF', 'DMO', 'DMXF', 'DNL', 'DNN', 'DNOV', 'DNP', 'DOCT', 'DOG', 'DOGZ', 'DOL', 'DON', 'DOOO', 'DOX', 'DOYU', 'DPG', 'DPST', 'DPZ', 'DQ', 'DRD', 'DRIP', 'DRIV', 'DRN', 'DRSK', 'DRV', 'DSEP', 'DSGX', 'DSI', 'DSL', 'DSM', 'DSTL', 'DSU', 'DSX', 'DTB', 'DTD', 'DTEC', 'DTH', 'DTW', 'DUG', 'DUKB', 'DUKpA', 'DUO', 'DURA', 'DUSA', 'DUSL', 'DUST', 'DVAX', 'DVOL', 'DVY', 'DVYA', 'DVYE', 'DWAS', 'DWLD', 'DWM', 'DWMF', 'DWSH', 'DWX', 'DXD', 'DXJ', 'DXPE', 'DYNF', 'DZZ', 'E', 'EAD', 'EAGG', 'EAI', 'EAOA', 'EAOK', 'EAOM', 'EAOR', 'EARN', 'EASG', 'EBIZ', 'EBND', 'EBON', 'EBR', 'EC', 'ECC', 'ECF', 'ECH', 'ECLN', 'ECNS', 'ECON', 'EDAP', 'EDC', 'EDD', 'EDEN', 'EDF', 'EDIV', 'EDOG', 'EDOW', 'EDU', 'EDV', 'EDZ', 'EELV', 'EEM', 'EEMA', 'EEMS', 'EEMV', 'EEMX', 'EES', 'EET', 'EEV', 'EFA', 'EFAD', 'EFAV', 'EFAX', 'EFG', 'EFIV', 'EFNL', 'EFO', 'EFR', 'EFT', 'EFU', 'EFV', 'EFZ', 'EGAN', 'EGO', 'EHI', 'EIC', 'EIDO', 'EIM', 'EINC', 'EIRL', 'EIS', 'EJAN', 'EJUL', 'ELC', 'ELD', 'ELP', 'EMB', 'EMBD', 'EMD', 'EMDV', 'EME', 'EMF', 'EMGF', 'EMHY', 'EMLC', 'EMLP', 'EMMF', 'EMNT', 'EMO', 'EMP', 'EMQQ', 'EMTL', 'EMTY', 'EMX', 'EMXC', 'ENFR', 'ENIC', 'ENLV', 'ENOR', 'ENR', 'ENTG', 'ENX', 'ENZL', 'EOD', 'EOI', 'EOS', 'EOT', 'EPHE', 'EPI', 'EPOL', 'EPP', 'EPRF', 'EPRpG', 'EPS', 'EPU', 'EPV', 'EQAL', 'EQHpA', 'EQIX', 'EQL', 'EQNR', 'EQWL', 'EQX', 'ERC', 'ERH', 'ERIC', 'ERJ', 'ERX', 'ERY', 'ESEA', 'ESG', 'ESGD', 'ESGE', 'ESGG', 'ESGRO', 'ESGRP', 'ESGU', 'ESGV', 'ESLT', 'ESML', 'ESPO', 'ETB', 'ETG', 'ETHO', 'ETJ', 'ETO', 'ETR', 'ETV', 'ETW', 'ETX', 'ETY', 'EUDG', 'EUDV', 'EUFN', 'EUM', 'EUO', 'EURL', 'EUSA', 'EUSB', 'EUSC', 'EVF', 'EVG', 'EVGN', 'EVM', 'EVN', 'EVT', 'EVV', 'EVX', 'EWA', 'EWC', 'EWD', 'EWG', 'EWH', 'EWI', 'EWJ', 'EWJV', 'EWK', 'EWL', 'EWM', 'EWN', 'EWO', 'EWP', 'EWQ', 'EWS', 'EWT', 'EWU', 'EWUS', 'EWV', 'EWW', 'EWX', 'EWY', 'EWZ', 'EWZS', 'EXAS', 'EXG', 'EXI', 'EXK', 'EXPO', 'EYLD', 'EZA', 'EZJ', 'EZM', 'EZU', 'FAAR', 'FAB', 'FAD', 'FALN', 'FAMI', 'FAN', 'FAS', 'FAUG', 'FAX', 'FAZ', 'FBCG', 'FBCV', 'FBIOP', 'FBND', 'FBT', 'FCAL', 'FCBC', 'FCG', 'FCNCP', 'FCO', 'FCOM', 'FCOR', 'FCPI', 'FCPT', 'FCT', 'FCTR', 'FCVT', 'FDD', 'FDEC', 'FDEM', 'FDEV', 'FDG', 'FDHY', 'FDIS', 'FDL', 'FDLO', 'FDM', 'FDMO', 'FDN', 'FDNI', 'FDRR', 'FDS', 'FDT', 'FDUS', 'FDVV', 'FEM', 'FEMB', 'FEMS', 'FENY', 'FEP', 'FEX', 'FEZ', 'FFA', 'FFBC', 'FFC', 'FFEB', 'FFTY', 'FGB', 'FGD', 'FHLC', 'FIBR', 'FID', 'FIDI', 'FIDU', 'FILL', 'FINS', 'FINV', 'FINX', 'FIS', 'FISR', 'FITBI', 'FITBO', 'FITE', 'FIVA', 'FIW', 'FIXD', 'FJUL', 'FJUN', 'FLAU', 'FLAX', 'FLBL', 'FLBR', 'FLC', 'FLCA', 'FLCB', 'FLCH', 'FLCO', 'FLDR', 'FLEE', 'FLGB', 'FLGR', 'FLGV', 'FLHK', 'FLHY', 'FLIA', 'FLIN', 'FLJP', 'FLKR', 'FLLA', 'FLMB', 'FLMI', 'FLMX', 'FLNG', 'FLOT', 'FLQL', 'FLQM', 'FLQS', 'FLRG', 'FLRN', 'FLRT', 'FLSA', 'FLSW', 'FLTB', 'FLTR', 'FLTW', 'FLV', 'FLWS', 'FMAT', 'FMAY', 'FMB', 'FMF', 'FMHI', 'FMN', 'FMS', 'FMX', 'FNCL', 'FNDA', 'FNDB', 'FNDC', 'FNDE', 'FNDF', 'FNDX', 'FNGD', 'FNGO', 'FNGS', 'FNK', 'FNOV', 'FNV', 'FNX', 'FNY', 'FOCT', 'FOF', 'FOVL', 'FPE', 'FPEI', 'FPF', 'FPX', 'FPXI', 'FQAL', 'FRA', 'FRBA', 'FRDM', 'FREL', 'FRI', 'FRO', 'FRPT', 'FRSX', 'FSEP', 'FSK', 'FSM', 'FSMB', 'FSMD', 'FSTA', 'FSV', 'FT', 'FTA', 'FTC', 'FTCS', 'FTEC', 'FTF', 'FTGC', 'FTHY', 'FTLS', 'FTRI', 'FTS', 'FTSD', 'FTSL', 'FTSM', 'FTXL', 'FTXN', 'FTXO', 'FTXR', 'FULTP', 'FUMB', 'FUND', 'FUNL', 'FURY', 'FUTU', 'FUTY', 'FV', 'FVAL', 'FVC', 'FVD', 'FVRR', 'FWONA', 'FXA', 'FXB', 'FXC', 'FXD', 'FXE', 'FXF', 'FXG', 'FXH', 'FXI', 'FXL', 'FXN', 'FXO', 'FXP', 'FXR', 'FXU', 'FXY', 'FXZ', 'FYC', 'FYLD', 'FYT', 'FYX', 'FpB', 'FpC', 'GAA', 'GAB', 'GAIN', 'GAL', 'GAM', 'GAMR', 'GASS', 'GAU', 'GBAB', 'GBCI', 'GBDC', 'GBF', 'GBIL', 'GBX', 'GCC', 'GCOR', 'GCOW', 'GCV', 'GD', 'GDMA', 'GDO', 'GDS', 'GDV', 'GDX', 'GDXD', 'GDXJ', 'GDXU', 'GECC', 'GEM', 'GF', 'GFI', 'GFL', 'GGAL', 'GGB', 'GGN', 'GGT', 'GGZ', 'GHG', 'GHY', 'GHYB', 'GHYG', 'GIB', 'GIGB', 'GII', 'GIL', 'GILT', 'GINN', 'GLAD', 'GLBS', 'GLD', 'GLDG', 'GLDI', 'GLDM', 'GLIN', 'GLL', 'GLMD', 'GLNG', 'GLO', 'GLOB', 'GLP', 'GLPG', 'GLQ', 'GLRY', 'GLTR', 'GLU', 'GLV', 'GMAB', 'GMF', 'GMOM', 'GNLpA', 'GNMA', 'GNOM', 'GNR', 'GNT', 'GOAU', 'GOEX', 'GOF', 'GOGL', 'GOLD', 'GOOS', 'GOVT', 'GOVZ', 'GP', 'GPJA', 'GPRE', 'GPRK', 'GPRO', 'GQRE', 'GRC', 'GREK', 'GRFS', 'GRID', 'GRN', 'GRNB', 'GRVY', 'GRX', 'GSBD', 'GSEE', 'GSEU', 'GSEW', 'GSG', 'GSID', 'GSIE', 'GSJY', 'GSL', 'GSLC', 'GSLpB', 'GSM', 'GSPY', 'GSSC', 'GSST', 'GSUS', 'GSY', 'GSpA', 'GSpC', 'GSpD', 'GTIP', 'GTO', 'GUNR', 'GURU', 'GUSH', 'GUT', 'GVAL', 'GVI', 'GVIP', 'GWX', 'GXC', 'GXG', 'GYLD', 'HACK', 'HAIL', 'HAP', 'HASI', 'HAUZ', 'HAWX', 'HBM', 'HCI', 'HCM', 'HCRB', 'HDB', 'HDEF', 'HDG', 'HDGE', 'HDLB', 'HDMV', 'HDV', 'HEDJ', 'HEEM', 'HEFA', 'HEGD', 'HELX', 'HEQ', 'HERO', 'HEWJ', 'HEZU', 'HFRO', 'HFROpA', 'HFXI', 'HGLB', 'HIBL', 'HIBS', 'HIGpG', 'HIMX', 'HIO', 'HIPS', 'HIX', 'HLAL', 'HLF', 'HMC', 'HMOP', 'HMY', 'HNDL', 'HNW', 'HOMZ', 'HPF', 'HPI', 'HPS', 'HQH', 'HQL', 'HRB', 'HRZN', 'HSBC', 'HSCZ', 'HSII', 'HSMV', 'HTAB', 'HTD', 'HTEC', 'HTGC', 'HTHT', 'HTOO', 'HTRB', 'HUIZ', 'HURN', 'HUSV', 'HUYA', 'HWCPZ', 'HYBB', 'HYD', 'HYDB', 'HYDW', 'HYEM', 'HYG', 'HYGH', 'HYGV', 'HYHG', 'HYI', 'HYLB', 'HYLS', 'HYMB', 'HYS', 'HYT', 'HYTR', 'HYUP', 'HYXF', 'HYXU', 'HYZD', 'IAE', 'IAF', 'IAG', 'IAGG', 'IAI', 'IAK', 'IAT', 'IAU', 'IBB', 'IBD', 'IBDQ', 'IBDR', 'IBDS', 'IBDT', 'IBDU', 'IBDV', 'IBHE', 'IBHF', 'IBM', 'IBMN', 'IBMO', 'IBMP', 'IBMQ', 'IBN', 'IBND', 'IBUY', 'ICF', 'ICL', 'ICLN', 'ICLR', 'ICMB', 'ICOW', 'ICSH', 'ICVT', 'IDE', 'IDEV', 'IDHQ', 'IDLV', 'IDMO', 'IDNA', 'IDOG', 'IDRV', 'IDU', 'IDV', 'IDX', 'IEDI', 'IEF', 'IEFA', 'IEI', 'IEMG', 'IEO', 'IETC', 'IEUR', 'IEUS', 'IEV', 'IEZ', 'IFGL', 'IFN', 'IFRA', 'IFRX', 'IFS', 'IFV', 'IG', 'IGA', 'IGBH', 'IGD', 'IGE', 'IGEB', 'IGF', 'IGHG', 'IGI', 'IGIB', 'IGLB', 'IGM', 'IGOV', 'IGR', 'IGRO', 'IGSB', 'IGT', 'IGV', 'IHAK', 'IHD', 'IHDG', 'IHE', 'IHF', 'IHG', 'IHI', 'IHY', 'IIF', 'IIGD', 'IIIN', 'IIM', 'IJAN', 'IJH', 'IJJ', 'IJK', 'IJR', 'IJS', 'IJT', 'IJUL', 'ILF', 'ILTB', 'IMAB', 'IMAX', 'IMOM', 'IMOS', 'IMTB', 'IMTM', 'IMTX', 'INCO', 'INDA', 'INDF', 'INDL', 'INDO', 'INDS', 'INDY', 'INFY', 'ING', 'INKM', 'INM', 'INMD', 'INTF', 'IOO', 'IPA', 'IPAC', 'IPAY', 'IPKW', 'IPO', 'IPOS', 'IQ', 'IQDF', 'IQDG', 'IQDY', 'IQI', 'IQLT', 'IQM', 'IQSI', 'IQSU', 'IRS', 'ISCF', 'ISD', 'ISMD', 'ISRA', 'ISTB', 'ITA', 'ITB', 'ITEQ', 'ITM', 'ITOT', 'ITRG', 'ITRN', 'ITUB', 'IUS', 'IUSB', 'IUSG', 'IUSV', 'IVAL', 'IVE', 'IVLU', 'IVOG', 'IVOL', 'IVOO', 'IVOV', 'IVRA', 'IVRpC', 'IVV', 'IVW', 'IWB', 'IWC', 'IWD', 'IWF', 'IWL', 'IWM', 'IWN', 'IWO', 'IWP', 'IWR', 'IWS', 'IWV', 'IWX', 'IWY', 'IX', 'IXC', 'IXG', 'IXJ', 'IXN', 'IXP', 'IXUS', 'IYC', 'IYE', 'IYF', 'IYG', 'IYH', 'IYJ', 'IYK', 'IYLD', 'IYM', 'IYR', 'IYT', 'IYW', 'IYY', 'IYZ', 'IZRL', 'JAAA', 'JACK', 'JANZ', 'JCE', 'JCPB', 'JCTR', 'JD', 'JDST', 'JEPI', 'JETS', 'JFIN', 'JFR', 'JGH', 'JHEM', 'JHI', 'JHMD', 'JHML', 'JHMM', 'JHS', 'JHSC', 'JHX', 'JIG', 'JKS', 'JLS', 'JMBS', 'JMIA', 'JMOM', 'JMST', 'JMUB', 'JNJ', 'JNK', 'JNUG', 'JOET', 'JOF', 'JPC', 'JPEM', 'JPI', 'JPIB', 'JPIN', 'JPMB', 'JPME', 'JPMpC', 'JPMpD', 'JPMpJ', 'JPSE', 'JPST', 'JPUS', 'JPXN', 'JQC', 'JQUA', 'JRI', 'JRS', 'JSM', 'JSMD', 'JSML', 'JSTC', 'JULZ', 'JUST', 'JVAL', 'JXI', 'K', 'KALL', 'KALV', 'KAPR', 'KARS', 'KB', 'KBA', 'KBE', 'KBWB', 'KBWD', 'KBWR', 'KBWY', 'KC', 'KCE', 'KEMQ', 'KEMX', 'KEP', 'KEYpI', 'KEYpJ', 'KEYpK', 'KF', 'KFRC', 'KFY', 'KGC', 'KGRN', 'KIE', 'KIMpL', 'KIMpM', 'KIO', 'KJAN', 'KJUL', 'KMDA', 'KMLM', 'KNDI', 'KNG', 'KNOP', 'KOCT', 'KOF', 'KOKU', 'KOLD', 'KOMP', 'KOP', 'KORP', 'KORU', 'KR', 'KRBN', 'KRE', 'KRMA', 'KRNT', 'KSA', 'KT', 'KTF', 'KURE', 'KVLE', 'KW', 'KWEB', 'KWT', 'KXI', 'KYN', 'LABD', 'LABU', 'LAKE', 'LAMR', 'LANC', 'LANDO', 'LBAY', 'LCG', 'LCR', 'LDOS', 'LDP', 'LDSF', 'LDUR', 'LEAD', 'LEGN', 'LEGR', 'LEMB', 'LEO', 'LFEQ', 'LFVN', 'LGH', 'LGHL', 'LGI', 'LGLV', 'LGOV', 'LI', 'LIT', 'LITB', 'LKOR', 'LMBS', 'LND', 'LOMA', 'LOUP', 'LPL', 'LQD', 'LQDH', 'LQDI', 'LRGE', 'LRGF', 'LRNZ', 'LSAF', 'LSAT', 'LSPD', 'LTL', 'LTPZ', 'LU', 'LULU', 'LVHD', 'LVHI', 'LX', 'LYG', 'MAG', 'MAGA', 'MAIN', 'MANH', 'MANU', 'MARB', 'MAT', 'MAV', 'MAXN', 'MBB', 'MBBB', 'MBSD', 'MC', 'MCHI', 'MCI', 'MCN', 'MCR', 'MDIV', 'MDWD', 'MDY', 'MDYG', 'MDYV', 'MEAR', 'MEOH', 'MERpK', 'METpA', 'METpE', 'METpF', 'MEXX', 'MFApB', 'MFApC', 'MFC', 'MFDX', 'MFEM', 'MFG', 'MFM', 'MFUS', 'MGA', 'MGC', 'MGF', 'MGIC', 'MGK', 'MGMT', 'MGNX', 'MGPI', 'MGR', 'MGRB', 'MGV', 'MHD', 'MHF', 'MHI', 'MHN', 'MID', 'MIDU', 'MIG', 'MILN', 'MIN', 'MINT', 'MIY', 'MJ', 'MKSI', 'MLCO', 'MLN', 'MLPA', 'MLPB', 'MLPX', 'MMC', 'MMD', 'MMIN', 'MMIT', 'MMLG', 'MMLP', 'MMSI', 'MMT', 'MMTM', 'MMU', 'MMYT', 'MNA', 'MNDO', 'MNSO', 'MOAT', 'MOGO', 'MOMO', 'MOO', 'MORT', 'MOTI', 'MOTO', 'MPA', 'MPC', 'MPV', 'MQT', 'MQY', 'MRCC', 'MRGR', 'MRSK', 'MSD', 'MSOS', 'MSTB', 'MSpA', 'MSpE', 'MSpF', 'MSpI', 'MSpK', 'MSpL', 'MT', 'MTA', 'MTC', 'MTGP', 'MTH', 'MTLS', 'MTSI', 'MTUM', 'MUA', 'MUB', 'MUC', 'MUE', 'MUFG', 'MUJ', 'MUNI', 'MUR', 'MUST', 'MVF', 'MVRL', 'MVT', 'MVV', 'MWA', 'MXF', 'MXI', 'MYD', 'MYI', 'MYN', 'MYRG', 'MYY', 'MZZ', 'NAC', 'NACP', 'NAD', 'NAIL', 'NAK', 'NAN', 'NANR', 'NAPR', 'NAT', 'NAZ', 'NBB', 'NBH', 'NBIX', 'NCA', 'NCNA', 'NCTY', 'NCV', 'NCZ', 'NDMO', 'NEA', 'NEAR', 'NEEpN', 'NERD', 'NETL', 'NEXA', 'NFJ', 'NFLT', 'NFRA', 'NGD', 'NGG', 'NHI', 'NHS', 'NI', 'NICE', 'NIE', 'NIM', 'NIO', 'NIU', 'NJAN', 'NJUL', 'NKX', 'NL', 'NLR', 'NLYpF', 'NLYpG', 'NLYpI', 'NMCO', 'NMFC', 'NMI', 'NML', 'NMM', 'NMR', 'NMZ', 'NNDM', 'NNOX', 'NNY', 'NOA', 'NOAH', 'NOBL', 'NOCT', 'NOK', 'NOMD', 'NORW', 'NOVT', 'NPV', 'NQP', 'NRK', 'NRO', 'NRUC', 'NTB', 'NTES', 'NTR', 'NTRS', 'NTRSO', 'NTSX', 'NUAG', 'NUBD', 'NUDM', 'NUEM', 'NUGT', 'NUHY', 'NULC', 'NULG', 'NULV', 'NUMG', 'NUMV', 'NURE', 'NUSA', 'NUSC', 'NUV', 'NUW', 'NVG', 'NVGS', 'NVMI', 'NVO', 'NVS', 'NWL', 'NXE', 'NXJ', 'NXP', 'NXTG', 'NYF', 'NYMTM', 'NYMTN', 'NZF', 'OAKpB', 'OBOR', 'OCCI', 'OCFC', 'OCIO', 'OCSL', 'OCTZ', 'OEF', 'OEUR', 'OFS', 'OGE', 'OGI', 'OGIG', 'OIA', 'OIH', 'OILK', 'OMAB', 'OMFL', 'OMFS', 'ONCY', 'ONEO', 'ONEQ', 'ONEV', 'ONEY', 'ONLN', 'OOMA', 'OPER', 'OPINL', 'OPK', 'OPP', 'OPRA', 'OR', 'ORCL', 'ORLA', 'ORMP', 'OSCV', 'OUNZ', 'OUSA', 'OUSM', 'OVB', 'OVL', 'OXLC', 'OXSQ', 'OXY.WS', 'OZK', 'PAAS', 'PAC', 'PAGS', 'PAI', 'PALC', 'PALL', 'PAM', 'PAMC', 'PAPR', 'PAUG', 'PAVE', 'PAWZ', 'PBA', 'PBD', 'PBE', 'PBIpB', 'PBJ', 'PBP', 'PBR', 'PBR.A', 'PBTP', 'PBUS', 'PBW', 'PCEF', 'PCF', 'PCH', 'PCK', 'PCM', 'PCN', 'PCQ', 'PCY', 'PCYO', 'PDBC', 'PDD', 'PDEC', 'PDI', 'PDN', 'PDP', 'PDS', 'PDT', 'PEBO', 'PEJ', 'PENN', 'PEO', 'PERI', 'PEX', 'PEXL', 'PEY', 'PEZ', 'PFBC', 'PFD', 'PFEB', 'PFF', 'PFFA', 'PFFD', 'PFFR', 'PFFV', 'PFH', 'PFI', 'PFIG', 'PFL', 'PFLD', 'PFLT', 'PFM', 'PFN', 'PFO', 'PFXF', 'PGF', 'PGHY', 'PGJ', 'PGP', 'PGX', 'PGZ', 'PHB', 'PHD', 'PHDG', 'PHG', 'PHI', 'PHK', 'PHO', 'PHR', 'PHT', 'PHYL', 'PHYS', 'PICB', 'PICK', 'PID', 'PIE', 'PILL', 'PIM', 'PIN', 'PIO', 'PIZ', 'PJAN', 'PJP', 'PJUL', 'PJUN', 'PKB', 'PKW', 'PKX', 'PLG', 'PLTM', 'PMAR', 'PMAY', 'PMF', 'PML', 'PMM', 'PMO', 'PMTpB', 'PMX', 'PNFPP', 'PNI', 'PNNT', 'PNOV', 'PNQI', 'POCT', 'POOL', 'PPA', 'PPBT', 'PPH', 'PPLT', 'PPT', 'PPTY', 'PQDI', 'PRA', 'PREF', 'PRF', 'PRFZ', 'PRN', 'PRNT', 'PRQR', 'PRS', 'PRTA', 'PRU', 'PSApF', 'PSApG', 'PSApH', 'PSApI', 'PSApJ', 'PSApK', 'PSApL', 'PSApM', 'PSApN', 'PSApO', 'PSC', 'PSCE', 'PSCH', 'PSCT', 'PSCX', 'PSEC', 'PSEP', 'PSF', 'PSFD', 'PSFF', 'PSHG', 'PSI', 'PSK', 'PSLV', 'PSMD', 'PSO', 'PSP', 'PSQ', 'PSR', 'PST', 'PTA', 'PTBD', 'PTCT', 'PTEU', 'PTF', 'PTH', 'PTIN', 'PTLC', 'PTMC', 'PTMN', 'PTNQ', 'PTY', 'PUK', 'PULS', 'PVI', 'PWB', 'PWS', 'PWV', 'PWZ', 'PXE', 'PXF', 'PXH', 'PXI', 'PXJ', 'PXS', 'PYN', 'PYZ', 'PZA', 'PZC', 'PZT', 'QABA', 'QAI', 'QARP', 'QCLN', 'QD', 'QDEC', 'QDEF', 'QDF', 'QDIV', 'QEFA', 'QEMM', 'QFIN', 'QGEN', 'QGRO', 'QH', 'QID', 'QINT', 'QLC', 'QLD', 'QLTA', 'QLV', 'QMOM', 'QPX', 'QQEW', 'QQH', 'QQQ', 'QQQE', 'QQQJ', 'QQQM', 'QQQX', 'QRFT', 'QSR', 'QTEC', 'QTUM', 'QUAL', 'QURE', 'QUS', 'QVAL', 'QVCC', 'QVCD', 'QWLD', 'QYLD', 'QYLG', 'R', 'RA', 'RAAX', 'RACE', 'RAFE', 'RARE', 'RAVI', 'RAYC', 'RCI', 'RCS', 'RDFI', 'RDHL', 'RDIV', 'RDOG', 'RDVY', 'RDWR', 'RDY', 'RECS', 'REET', 'REGL', 'REK', 'RELX', 'REM', 'REMX', 'RETL', 'REVS', 'REW', 'REX', 'REZ', 'RFCI', 'RFDA', 'RFDI', 'RFFC', 'RFG', 'RFI', 'RFM', 'RFV', 'RFpC', 'RGLD', 'RGT', 'RIGS', 'RILYN', 'RINF', 'RING', 'RIO', 'RISN', 'RIV', 'RLJpA', 'RLY', 'RMI', 'RMM', 'RMT', 'RNP', 'RNRpF', 'ROAM', 'ROBO', 'ROBT', 'RODE', 'RODM', 'ROKT', 'ROM', 'ROMO', 'RORO', 'ROSC', 'ROUS', 'RPAR', 'RPG', 'RPV', 'RQI', 'RRC', 'RSF', 'RSP', 'RTAI', 'RTH', 'RVNU', 'RVT', 'RWJ', 'RWK', 'RWL', 'RWM', 'RWO', 'RWR', 'RWX', 'RXD', 'RXI', 'RXL', 'RY', 'RYAAY', 'RYLD', 'RZB', 'RZG', 'RZV', 'SA', 'SAA', 'SABR', 'SAMG', 'SAN', 'SAND', 'SAP', 'SAR', 'SB', 'SBB', 'SBI', 'SBIO', 'SBLK', 'SBRA', 'SBS', 'SBSW', 'SCC', 'SCD', 'SCEpG', 'SCEpJ', 'SCEpK', 'SCEpL', 'SCHA', 'SCHB', 'SCHC', 'SCHD', 'SCHE', 'SCHF', 'SCHG', 'SCHH', 'SCHI', 'SCHJ', 'SCHK', 'SCHM', 'SCHO', 'SCHP', 'SCHQ', 'SCHR', 'SCHV', 'SCHWpD', 'SCHX', 'SCHZ', 'SCJ', 'SCM', 'SCO', 'SCS', 'SCVL', 'SCZ', 'SDCI', 'SDD', 'SDEM', 'SDG', 'SDHY', 'SDIV', 'SDOG', 'SDOW', 'SDP', 'SDS', 'SDY', 'SE', 'SECT', 'SEED', 'SEF', 'SEIX', 'SEPZ', 'SFB', 'SFL', 'SFY', 'SFYF', 'SFYX', 'SFpC', 'SGDJ', 'SGDM', 'SGOL', 'SGOV', 'SH', 'SHAG', 'SHE', 'SHG', 'SHIP', 'SHM', 'SHV', 'SHY', 'SHYD', 'SHYG', 'SHYL', 'SID', 'SIFY', 'SII', 'SIJ', 'SIL', 'SILC', 'SILJ', 'SIMO', 'SIMS', 'SIVR', 'SIXA', 'SIXH', 'SIXL', 'SIZE', 'SJB', 'SJNK', 'SKF', 'SKM', 'SKOR', 'SKY', 'SKYY', 'SLF', 'SLGpI', 'SLQD', 'SLRC', 'SLV', 'SLVO', 'SLVP', 'SLX', 'SLYG', 'SLYV', 'SM', 'SMB', 'SMDD', 'SMDV', 'SMFG', 'SMH', 'SMHB', 'SMIN', 'SMLF', 'SMLV', 'SMMD', 'SMMU', 'SMMV', 'SMN', 'SMOG', 'SNDL', 'SNN', 'SNPE', 'SNSR', 'SNVpD', 'SNVpE', 'SNY', 'SOCL', 'SOHU', 'SOJC', 'SOJD', 'SOJE', 'SOR', 'SOS', 'SOXL', 'SOXS', 'SOXX', 'SOYB', 'SPAB', 'SPBO', 'SPCB', 'SPCX', 'SPD', 'SPDN', 'SPDV', 'SPDW', 'SPE', 'SPEM', 'SPEU', 'SPFF', 'SPG', 'SPGM', 'SPGP', 'SPHB', 'SPHD', 'SPHQ', 'SPHY', 'SPIB', 'SPIP', 'SPLB', 'SPLG', 'SPLV', 'SPMB', 'SPMD', 'SPMO', 'SPMV', 'SPNS', 'SPOT', 'SPPP', 'SPRE', 'SPSB', 'SPSK', 'SPSM', 'SPTI', 'SPTL', 'SPTM', 'SPTS', 'SPUC', 'SPUS', 'SPUU', 'SPVM', 'SPVU', 'SPXL', 'SPXS', 'SPXT', 'SPXU', 'SPXX', 'SPY', 'SPYC', 'SPYD', 'SPYG', 'SPYV', 'SPYX', 'SQEW', 'SQM', 'SQNS', 'SQQQ', 'SRDX', 'SREA', 'SRET', 'SRLN', 'SRS', 'SRTY', 'SRV', 'SRVR', 'SRpA', 'SSG', 'SSL', 'SSO', 'SSPY', 'SSSS', 'SSUS', 'SSYS', 'STIP', 'STK', 'STM', 'STN', 'STNE', 'STNG', 'STOT', 'STPZ', 'STTpG', 'SU', 'SUB', 'SUPV', 'SUSA', 'SUSB', 'SUSC', 'SUSL', 'SUZ', 'SVAL', 'SVM', 'SVXY', 'SWAN', 'SWX', 'SWZ', 'SXTC', 'SY', 'SYFpA', 'SYLD', 'SYTA', 'SZK', 'SZNE', 'TAC', 'TAGS', 'TAIL', 'TAK', 'TAL', 'TAN', 'TANH', 'TAOP', 'TAP', 'TAXF', 'TBB', 'TBF', 'TBJL', 'TBT', 'TBX', 'TCHP', 'TCOM', 'TCPC', 'TD', 'TDF', 'TDIV', 'TDOC', 'TDSB', 'TDSC', 'TDTF', 'TDTT', 'TDV', 'TDVG', 'TEAF', 'TECB', 'TECK', 'TECL', 'TECS', 'TEF', 'TEI', 'TEO', 'TEQI', 'TFCpO', 'TFCpR', 'TFI', 'TFII', 'TFJL', 'TFLO', 'TFSL', 'TGB', 'TGI', 'TGRW', 'TGS', 'TGTX', 'THD', 'THM', 'THNQ', 'THQ', 'THTX', 'THW', 'THY', 'TIGO', 'TIGR', 'TILT', 'TIMB', 'TIP', 'TIPX', 'TIPZ', 'TK', 'TKC', 'TLH', 'TLK', 'TLSA', 'TLT', 'TLTD', 'TLTE', 'TM', 'TMDV', 'TME', 'TMF', 'TMFC', 'TMV', 'TNA', 'TNK', 'TOK', 'TOKE', 'TOLZ', 'TOTL', 'TOUR', 'TOWN', 'TPHD', 'TPIF', 'TPLC', 'TPOR', 'TPSC', 'TPVG', 'TPYP', 'TPZ', 'TQQQ', 'TREX', 'TRI', 'TRIB', 'TRMD', 'TRN', 'TRND', 'TRNO', 'TRP', 'TRS', 'TRTNpB', 'TRTNpC', 'TRTNpD', 'TRTY', 'TRVG', 'TRX', 'TS', 'TSEM', 'TSI', 'TSLX', 'TSM', 'TTC', 'TTEK', 'TTT', 'TU', 'TUR', 'TV', 'TVC', 'TVE', 'TWIN', 'TWM', 'TWOpA', 'TWOpB', 'TWOpC', 'TX', 'TY', 'TYD', 'TYG', 'TYO', 'TZA', 'TpA', 'TpC', 'UAPR', 'UAUG', 'UBOT', 'UBR', 'UBS', 'UBT', 'UCC', 'UCO', 'UCON', 'UCTT', 'UDEC', 'UDN', 'UDOW', 'UEC', 'UEVM', 'UFEB', 'UFO', 'UGA', 'UGE', 'UGL', 'UGP', 'UHAL', 'UITB', 'UIVM', 'UJAN', 'UJUL', 'UJUN', 'UL', 'ULBI', 'ULE', 'ULST', 'ULVM', 'UMAR', 'UMAY', 'UMC', 'UMDD', 'UNF', 'UNG', 'UNL', 'UNMA', 'UNOV', 'UOCT', 'UPRO', 'UPW', 'URA', 'URE', 'URNM', 'URTH', 'URTY', 'USA', 'USAI', 'USAS', 'USBpH', 'USBpP', 'USBpQ', 'USCI', 'USD', 'USDU', 'USEP', 'USFR', 'USHY', 'USIG', 'USL', 'USMC', 'USMF', 'USMV', 'USO', 'USOI', 'USRT', 'USSG', 'UST', 'USTB', 'USVM', 'USXF', 'UTES', 'UTF', 'UTG', 'UTSL', 'UUP', 'UVV', 'UVXY', 'UWM', 'UXI', 'UXIN', 'UYG', 'UYM', 'UZD', 'UZE', 'VALE', 'VALQ', 'VAMO', 'VAW', 'VB', 'VBF', 'VBK', 'VBND', 'VBR', 'VCEB', 'VCIT', 'VCLT', 'VCR', 'VCSH', 'VCV', 'VDC', 'VDE', 'VEA', 'VEGA', 'VEGI', 'VEGN', 'VEON', 'VET', 'VEU', 'VFH', 'VFMF', 'VFMO', 'VFMV', 'VFQY', 'VFVA', 'VGI', 'VGIT', 'VGK', 'VGLT', 'VGM', 'VGSH', 'VGT', 'VHT', 'VICE', 'VIDI', 'VIG', 'VIGI', 'VIOG', 'VIOO', 'VIOT', 'VIOV', 'VIPS', 'VIS', 'VIST', 'VIV', 'VIXM', 'VIXY', 'VKI', 'VKQ', 'VLRS', 'VLT', 'VLU', 'VLUE', 'VLY', 'VLYPP', 'VMAR', 'VMBS', 'VMI', 'VMO', 'VNET', 'VNLA', 'VNM', 'VNOpL', 'VNOpM', 'VNOpN', 'VNQ', 'VNQI', 'VO', 'VOD', 'VOE', 'VONE', 'VONG', 'VONV', 'VOO', 'VOOG', 'VOOV', 'VOT', 'VOX', 'VOYApB', 'VPC', 'VPL', 'VPU', 'VPV', 'VRAI', 'VRIG', 'VRP', 'VSDA', 'VSGX', 'VSS', 'VT', 'VTC', 'VTEB', 'VTHR', 'VTI', 'VTIP', 'VTN', 'VTV', 'VTWG', 'VTWO', 'VTWV', 'VUG', 'VUSE', 'VV', 'VVPR', 'VVR', 'VWID', 'VWO', 'VWOB', 'VXF', 'VXUS', 'VXX', 'VXZ', 'VYM', 'VYMI', 'WANT', 'WB', 'WBIF', 'WBIG', 'WBIL', 'WBIY', 'WBND', 'WBSpF', 'WCCpA', 'WCLD', 'WDIV', 'WEA', 'WEAT', 'WEBL', 'WEBS', 'WEX', 'WF', 'WFCpA', 'WFCpY', 'WFCpZ', 'WFH', 'WHF', 'WIA', 'WIMI', 'WINA', 'WIP', 'WIT', 'WIW', 'WIX', 'WK', 'WKEY', 'WLDR', 'WNC', 'WNW', 'WOMN', 'WOOD', 'WPM', 'WPP', 'WPRT', 'WRBpE', 'WRBpF', 'WRN', 'WTFCM', 'WTFCP', 'WTM', 'WTMF', 'WUGI', 'WWJD', 'WWR', 'WY', 'XAR', 'XBI', 'XCEM', 'XES', 'XFLT', 'XHB', 'XHE', 'XHR', 'XHS', 'XITK', 'XJH', 'XJR', 'XLB', 'XLC', 'XLE', 'XLF', 'XLG', 'XLI', 'XLK', 'XLP', 'XLRE', 'XLSR', 'XLU', 'XLV', 'XLY', 'XME', 'XMHQ', 'XMLV', 'XMMO', 'XMPT', 'XMVM', 'XNET', 'XNTK', 'XOP', 'XP', 'XPEV', 'XPH', 'XPP', 'XRLV', 'XRT', 'XSD', 'XSHD', 'XSHQ', 'XSLV', 'XSMO', 'XSOE', 'XSVM', 'XSW', 'XT', 'XTL', 'XTN', 'XVV', 'XYLD', 'XYLG', 'YALA', 'YANG', 'YCL', 'YCS', 'YDEC', 'YGMZ', 'YI', 'YINN', 'YLD', 'YOLO', 'YPF', 'YRD', 'YSG', 'YTRA', 'YXI', 'YYY', 'ZBZX', 'ZEXIT', 'ZIEXT', 'ZIG', 'ZKIN', 'ZROZ', 'ZSL', 'ZTEST', 'ZTO', 'ZTR', 'ZTST', 'ZXIET']\n"
     ]
    },
    {
     "name": "stderr",
     "output_type": "stream",
     "text": [
      "\n"
     ]
    }
   ],
   "source": [
    "# 1) Extract unique tickers from your existing DataFrame\n",
    "tickers = data['ticker'].dropna().unique().tolist() # Get unique tickers, dropping nulls\n",
    "print(\"First 20 tickers:\", tickers[:20]) # Print the first 20 tickers for inspection\n",
    "\n",
    "# 2) Initialize lists to hold metadata and bad tickers\n",
    "meta_list   = []\n",
    "bad_tickers = []\n",
    "\n",
    "# 3) Loop through tickers\n",
    "for t in tqdm(tickers, desc=\"Fetching ticker details\"): # Progress bar loop for each ticker\n",
    "   try: \n",
    "       resp = client.get_ticker_details(t) # Get ticker details from Polygon.io\n",
    "   except Exception: \n",
    "       # couldn’t fetch details at all \n",
    "       bad_tickers.append(t) \n",
    "       continue**\n",
    "\n",
    "   # build a simple dict from resp attributes\n",
    "   record = {\n",
    "       'ticker':                     t,\n",
    "       'active':                     resp.active,\n",
    "       'market_cap':                 resp.market_cap,\n",
    "       'list_date':                  resp.list_date,\n",
    "       'sic_code':                   resp.sic_code,\n",
    "   }\n",
    "\n",
    "   # 4) if inactive or any field (besides ticker) is None → mark bad & skip\n",
    "   has_missing = any(\n",
    "       record[field] is None # check for None values\n",
    "       for field in record \n",
    "       if field != 'ticker'\n",
    "   )\n",
    "   if not record['active'] or has_missing: # Check if ticker is inactive or has missing fields\n",
    "       bad_tickers.append(t) \n",
    "       continue\n",
    "\n",
    "   # 5) otherwise keep it\n",
    "   meta_list.append(record) \n",
    "\n",
    "# 6) Build the clean DataFrame\n",
    "meta_df = pd.DataFrame(meta_list) # Create DataFrame from metadata list\n",
    "\n",
    "# 7) Deduplicate bad_tickers \n",
    "bad_tickers = sorted(set(bad_tickers)) # Remove duplicates and sort\n",
    "\n",
    "# 8) Inspect\n",
    "print(\"Clean metadata:\")\n",
    "print(meta_df.head())\n",
    "print(f\"\\nTickers skipped (inactive or missing data): {len(bad_tickers)}\")"
   ]
  },
  {
   "cell_type": "code",
   "execution_count": 29,
   "id": "9e5c3aa1-537e-482a-adb7-dd7b2107d9e2",
   "metadata": {},
   "outputs": [
    {
     "data": {
      "text/plain": [
       "2970"
      ]
     },
     "execution_count": 29,
     "metadata": {},
     "output_type": "execute_result"
    }
   ],
   "source": [
    "len(bad_tickers)"
   ]
  },
  {
   "cell_type": "code",
   "execution_count": 30,
   "id": "194f24d4-ab0d-4434-ad2c-ea76d8054d70",
   "metadata": {},
   "outputs": [
    {
     "data": {
      "text/plain": [
       "5540"
      ]
     },
     "execution_count": 30,
     "metadata": {},
     "output_type": "execute_result"
    }
   ],
   "source": [
    "len(tickers)"
   ]
  },
  {
   "cell_type": "code",
   "execution_count": 32,
   "id": "4f9474ac-6405-4cc5-ba1f-7dd809f1577c",
   "metadata": {},
   "outputs": [],
   "source": [
    "# Filter out bad tickers from the data\n",
    "new_tickers = [t for t in tickers if t not in bad_tickers]\n",
    "filtered_data = data[data['ticker'].isin(new_tickers)].copy()\n",
    "\n",
    "# Reset the index\n",
    "filtered_data.reset_index(drop=True, inplace=True)\n",
    "\n",
    "#evaluate the new data \n",
    "data_evaluation(filtered_data)"
   ]
  },
  {
   "cell_type": "code",
   "execution_count": 33,
   "id": "c3bb2de2-f5f4-4356-a6d1-c7b4d46bbfe0",
   "metadata": {},
   "outputs": [
    {
     "name": "stdout",
     "output_type": "stream",
     "text": [
      "\n",
      "Amount of null values per column: \n",
      " ticker          0\n",
      "volume          0\n",
      "open            0\n",
      "close           0\n",
      "high            0\n",
      "low             0\n",
      "transactions    0\n",
      "time            0\n",
      "dtype: int64 \n",
      "\n",
      "Number of unique tickers: 2570\n",
      "The mode of the amount of tickers is 1078\n",
      "The number of incomplete tickers is 0\n",
      "The percentage of incomplete tickers relative to the mode is 0.000%\n",
      "    \n"
     ]
    }
   ],
   "source": [
    "data_evaluation(filtered_data)"
   ]
  },
  {
   "cell_type": "code",
   "execution_count": 34,
   "id": "5dbc0abe-b70e-40a9-b501-05402b13a760",
   "metadata": {},
   "outputs": [
    {
     "data": {
      "text/html": [
       "<div>\n",
       "<style scoped>\n",
       "    .dataframe tbody tr th:only-of-type {\n",
       "        vertical-align: middle;\n",
       "    }\n",
       "\n",
       "    .dataframe tbody tr th {\n",
       "        vertical-align: top;\n",
       "    }\n",
       "\n",
       "    .dataframe thead th {\n",
       "        text-align: right;\n",
       "    }\n",
       "</style>\n",
       "<table border=\"1\" class=\"dataframe\">\n",
       "  <thead>\n",
       "    <tr style=\"text-align: right;\">\n",
       "      <th></th>\n",
       "      <th>ticker</th>\n",
       "      <th>active</th>\n",
       "      <th>market_cap</th>\n",
       "      <th>list_date</th>\n",
       "      <th>sic_code</th>\n",
       "    </tr>\n",
       "  </thead>\n",
       "  <tbody>\n",
       "    <tr>\n",
       "      <th>0</th>\n",
       "      <td>A</td>\n",
       "      <td>True</td>\n",
       "      <td>2.998995e+10</td>\n",
       "      <td>1999-11-18</td>\n",
       "      <td>3826</td>\n",
       "    </tr>\n",
       "    <tr>\n",
       "      <th>1</th>\n",
       "      <td>AA</td>\n",
       "      <td>True</td>\n",
       "      <td>6.474725e+09</td>\n",
       "      <td>2016-10-18</td>\n",
       "      <td>3334</td>\n",
       "    </tr>\n",
       "    <tr>\n",
       "      <th>2</th>\n",
       "      <td>AAL</td>\n",
       "      <td>True</td>\n",
       "      <td>6.206615e+09</td>\n",
       "      <td>2013-12-10</td>\n",
       "      <td>4512</td>\n",
       "    </tr>\n",
       "    <tr>\n",
       "      <th>3</th>\n",
       "      <td>AAOI</td>\n",
       "      <td>True</td>\n",
       "      <td>5.653103e+08</td>\n",
       "      <td>2013-09-26</td>\n",
       "      <td>3674</td>\n",
       "    </tr>\n",
       "    <tr>\n",
       "      <th>4</th>\n",
       "      <td>AAON</td>\n",
       "      <td>True</td>\n",
       "      <td>6.705448e+09</td>\n",
       "      <td>1990-12-01</td>\n",
       "      <td>3585</td>\n",
       "    </tr>\n",
       "    <tr>\n",
       "      <th>...</th>\n",
       "      <td>...</td>\n",
       "      <td>...</td>\n",
       "      <td>...</td>\n",
       "      <td>...</td>\n",
       "      <td>...</td>\n",
       "    </tr>\n",
       "    <tr>\n",
       "      <th>2565</th>\n",
       "      <td>ZS</td>\n",
       "      <td>True</td>\n",
       "      <td>3.085833e+10</td>\n",
       "      <td>2018-03-16</td>\n",
       "      <td>7371</td>\n",
       "    </tr>\n",
       "    <tr>\n",
       "      <th>2566</th>\n",
       "      <td>ZTS</td>\n",
       "      <td>True</td>\n",
       "      <td>6.727937e+10</td>\n",
       "      <td>2013-02-01</td>\n",
       "      <td>2834</td>\n",
       "    </tr>\n",
       "    <tr>\n",
       "      <th>2567</th>\n",
       "      <td>ZUMZ</td>\n",
       "      <td>True</td>\n",
       "      <td>2.474984e+08</td>\n",
       "      <td>2005-05-06</td>\n",
       "      <td>5600</td>\n",
       "    </tr>\n",
       "    <tr>\n",
       "      <th>2568</th>\n",
       "      <td>ZYME</td>\n",
       "      <td>True</td>\n",
       "      <td>7.653457e+08</td>\n",
       "      <td>2017-04-28</td>\n",
       "      <td>2834</td>\n",
       "    </tr>\n",
       "    <tr>\n",
       "      <th>2569</th>\n",
       "      <td>ZYXI</td>\n",
       "      <td>True</td>\n",
       "      <td>6.665132e+07</td>\n",
       "      <td>2019-02-12</td>\n",
       "      <td>3845</td>\n",
       "    </tr>\n",
       "  </tbody>\n",
       "</table>\n",
       "<p>2570 rows × 5 columns</p>\n",
       "</div>"
      ],
      "text/plain": [
       "     ticker  active    market_cap   list_date sic_code\n",
       "0         A    True  2.998995e+10  1999-11-18     3826\n",
       "1        AA    True  6.474725e+09  2016-10-18     3334\n",
       "2       AAL    True  6.206615e+09  2013-12-10     4512\n",
       "3      AAOI    True  5.653103e+08  2013-09-26     3674\n",
       "4      AAON    True  6.705448e+09  1990-12-01     3585\n",
       "...     ...     ...           ...         ...      ...\n",
       "2565     ZS    True  3.085833e+10  2018-03-16     7371\n",
       "2566    ZTS    True  6.727937e+10  2013-02-01     2834\n",
       "2567   ZUMZ    True  2.474984e+08  2005-05-06     5600\n",
       "2568   ZYME    True  7.653457e+08  2017-04-28     2834\n",
       "2569   ZYXI    True  6.665132e+07  2019-02-12     3845\n",
       "\n",
       "[2570 rows x 5 columns]"
      ]
     },
     "execution_count": 34,
     "metadata": {},
     "output_type": "execute_result"
    }
   ],
   "source": [
    "meta_df"
   ]
  },
  {
   "cell_type": "code",
   "execution_count": 35,
   "id": "310845f8-dd92-455a-8f15-1e7b08a381e5",
   "metadata": {},
   "outputs": [
    {
     "data": {
      "text/plain": [
       "570"
      ]
     },
     "execution_count": 35,
     "metadata": {},
     "output_type": "execute_result"
    }
   ],
   "source": [
    "# append your ticker metadata into the existing ticker_metadata table\n",
    "meta_df.to_sql(\n",
    "    \"ticker_metadata\",\n",
    "    engine,\n",
    "    if_exists=\"append\",\n",
    "    index=False\n",
    ")\n"
   ]
  },
  {
   "cell_type": "code",
   "execution_count": 38,
   "id": "f0243eca-a413-4a5e-8e2a-8a13111c6880",
   "metadata": {},
   "outputs": [
    {
     "data": {
      "text/plain": [
       "460"
      ]
     },
     "execution_count": 38,
     "metadata": {},
     "output_type": "execute_result"
    }
   ],
   "source": [
    "# append your OHLCV DataFrame into the existing ohlcv_data table\n",
    "filtered_data.to_sql(\n",
    "    \"ohlcv_data\",\n",
    "    engine,\n",
    "    if_exists=\"append\",\n",
    "    index=False\n",
    ")\n"
   ]
  }
 ],
 "metadata": {
  "kernelspec": {
   "display_name": "Python 3 (ipykernel)",
   "language": "python",
   "name": "python3"
  },
  "language_info": {
   "codemirror_mode": {
    "name": "ipython",
    "version": 3
   },
   "file_extension": ".py",
   "mimetype": "text/x-python",
   "name": "python",
   "nbconvert_exporter": "python",
   "pygments_lexer": "ipython3",
   "version": "3.12.7"
  }
 },
 "nbformat": 4,
 "nbformat_minor": 5
}
